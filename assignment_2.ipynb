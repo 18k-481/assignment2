{
  "nbformat": 4,
  "nbformat_minor": 0,
  "metadata": {
    "colab": {
      "name": "assignment 2.ipynb",
      "provenance": [],
      "collapsed_sections": [],
      "authorship_tag": "ABX9TyNIvxGwmQH7zdFfFm6XqANl",
      "include_colab_link": true
    },
    "kernelspec": {
      "name": "python3",
      "display_name": "Python 3"
    }
  },
  "cells": [
    {
      "cell_type": "markdown",
      "metadata": {
        "id": "view-in-github",
        "colab_type": "text"
      },
      "source": [
        "<a href=\"https://colab.research.google.com/github/18k-481/assignment2/blob/master/assignment_2.ipynb\" target=\"_parent\"><img src=\"https://colab.research.google.com/assets/colab-badge.svg\" alt=\"Open In Colab\"/></a>"
      ]
    },
    {
      "cell_type": "markdown",
      "metadata": {
        "id": "jEzljeFG42oE",
        "colab_type": "text"
      },
      "source": [
        "1.\tArea of Triangle :\n",
        "Given the lengths of three sides of a triangle, calculate the area of the triangle. \n"
      ]
    },
    {
      "cell_type": "code",
      "metadata": {
        "id": "PvdHwSTP5Khk",
        "colab_type": "code",
        "colab": {}
      },
      "source": [
        "a=float(input(\"enter 1st side\"))\n",
        "b=float(input(\"enter 2nd side\"))\n",
        "c=float(input(\"enter 3rd side\"))\n",
        "s=(a+b+c)/2\n",
        "area=(s*(s-a)*(s-b)*(s-c))**0.5\n",
        "print(\"area of triangle is %0.2f \"%area)"
      ],
      "execution_count": null,
      "outputs": []
    },
    {
      "cell_type": "markdown",
      "metadata": {
        "id": "co7NdFVl8flv",
        "colab_type": "text"
      },
      "source": [
        "2.\tTake a string from end user and check if the value is palindrome or not"
      ]
    },
    {
      "cell_type": "code",
      "metadata": {
        "id": "EIUxZLHZ8lcm",
        "colab_type": "code",
        "colab": {}
      },
      "source": [
        "a=input(\"enter a string \")\n",
        "if a==a[::-1]:\n",
        "  print(\"palindrome\")\n",
        "else:\n",
        "  print(\"not palindrome\")"
      ],
      "execution_count": null,
      "outputs": []
    },
    {
      "cell_type": "markdown",
      "metadata": {
        "id": "Z2pqtpi_Pc9f",
        "colab_type": "text"
      },
      "source": [
        "3.\tWrite a program that reads a year from the user and displays a message \n",
        "Indicating whether or not it is a leap year.\n"
      ]
    },
    {
      "cell_type": "code",
      "metadata": {
        "id": "7s0v9jlvPhck",
        "colab_type": "code",
        "colab": {}
      },
      "source": [
        "yr=int(input(\"enter a year \"))\n",
        "if yr%4==0 and yr%100!=0 or yr%400==0:\n",
        "  print(\"leap year\")\n",
        "else:\n",
        "  print(\"not a leap year\")"
      ],
      "execution_count": null,
      "outputs": []
    },
    {
      "cell_type": "markdown",
      "metadata": {
        "id": "RwX5WxklP_Es",
        "colab_type": "text"
      },
      "source": [
        "4.\t Space To Hyphen problem \n",
        "\n",
        "Take a string as input, and replaces spaces “ “  with hyphens “-”, and returns a string.\n",
        "\n",
        "Input: “ This program converts spaces into hyphen”\n",
        "\n",
        "      Output:     “ This-program-converts-spaces-into-hyphen”\n"
      ]
    },
    {
      "cell_type": "code",
      "metadata": {
        "id": "GSU0cYOqQUxW",
        "colab_type": "code",
        "colab": {}
      },
      "source": [
        "a=input(\"enter a string \")\n",
        "print(a.replace(\" \",\"-\"))"
      ],
      "execution_count": null,
      "outputs": []
    },
    {
      "cell_type": "markdown",
      "metadata": {
        "id": "MQDmdFmBRmms",
        "colab_type": "text"
      },
      "source": [
        "5.\tUnique Sort problem \n",
        "\n",
        "Take a string as input that accepts a comma separated sequence of words as input and prints the unique words in sorted form (alphanumerically).\n",
        "\n",
        "*Input*: orange, white, red, cyan, green, magenta, cyan, pink, white\n",
        "\n",
        "*Output*: cyan, green, magenta, orange, pink, red, white\n"
      ]
    },
    {
      "cell_type": "code",
      "metadata": {
        "id": "SbArfdGsTa35",
        "colab_type": "code",
        "colab": {
          "base_uri": "https://localhost:8080/",
          "height": 52
        },
        "outputId": "eeb26a4e-5fa8-412a-f839-0e07b58f2932"
      },
      "source": [
        "a=input(\"enter string \")\n",
        "print(sorted(set(a.split(\",\"))))"
      ],
      "execution_count": 5,
      "outputs": [
        {
          "output_type": "stream",
          "text": [
            "enter string orange, white, red, cyan, green, magenta, cyan, pink, white\n",
            "[' cyan', ' green', ' magenta', ' pink', ' red', ' white', 'orange']\n"
          ],
          "name": "stdout"
        }
      ]
    },
    {
      "cell_type": "markdown",
      "metadata": {
        "id": "a5rm5CadVrPB",
        "colab_type": "text"
      },
      "source": [
        "6.\tTax Calculator\n",
        "\n",
        "Ask the user for their monthly salary. Calculate whether they have to pay tax and if so, how much is that amount .Print the result\n"
      ]
    },
    {
      "cell_type": "code",
      "metadata": {
        "id": "4IWsA4DTVxFa",
        "colab_type": "code",
        "colab": {}
      },
      "source": [
        "s=int(input(\"Enter montly salary:\"))\n",
        "if s<=250000:\n",
        "  print(\"No tax\")\n",
        "elif 250001<=s and s<=500000:\n",
        "  print(\"Tax rate is 5%\")\n",
        "  print(\"Tax amount=\",(s*5)/100)\n",
        "elif 500001<=s and s<=750000:\n",
        "  print(\"Tax rate is 10%\")\n",
        "  print(\"Tax amount=\",(s*10)/100)\n",
        "elif 750001<=s and s<=1000000:\n",
        "  print(\"Tax rate is 15%\")\n",
        "  print(\"Tax amount=\",(s*15)/100)\n",
        "elif 1000001<=s and s<=1250000:\n",
        "  print(\"Tax rate is 20%\")\n",
        "  print(\"Tax amount=\",(s*20)/100)\n",
        "elif 1250001<=s and s<=1500000:\n",
        "  print(\"Tax rate is 25%\")\n",
        "  print(\"Tax amount=\",(s*25)/100)\n",
        "else:\n",
        "  print(\"Tax is 30%\")\n",
        "  print(\"Tax amount=\",(s*30)/100)"
      ],
      "execution_count": null,
      "outputs": []
    },
    {
      "cell_type": "markdown",
      "metadata": {
        "id": "XYFxEpKvWr9v",
        "colab_type": "text"
      },
      "source": [
        "7.\tTake a list of integers as an argument, and converts it into a single integer (return the integer).\n",
        "\n",
        "*Input*: [11, 33, 50]\n",
        "\n",
        "*Output*: 113350\n"
      ]
    },
    {
      "cell_type": "code",
      "metadata": {
        "id": "A0YZ0IUpWw0x",
        "colab_type": "code",
        "colab": {}
      },
      "source": [
        "lst=[11,33,50]\n",
        "for i in lst:\n",
        "  print(i,end=\"\")"
      ],
      "execution_count": null,
      "outputs": []
    },
    {
      "cell_type": "markdown",
      "metadata": {
        "id": "9FDzyvTpXeTN",
        "colab_type": "text"
      },
      "source": [
        "8.\tUnits of Time\n",
        "\n",
        "Create a program that reads duration from the user as a number of days, hours, minutes, and seconds. Compute and display the total number of seconds represented by this duration. \n"
      ]
    },
    {
      "cell_type": "code",
      "metadata": {
        "id": "ClauznuPXmaG",
        "colab_type": "code",
        "colab": {}
      },
      "source": [
        "days=int(input(\"enter days \"))\n",
        "hrs=int(input(\"enter hours \"))\n",
        "min=int(input(\"enter minutes \"))\n",
        "sec=int(input(\"enter seconds \"))\n",
        "print((days*86400)+(hrs*3600)+(min*60)+sec)"
      ],
      "execution_count": null,
      "outputs": []
    },
    {
      "cell_type": "markdown",
      "metadata": {
        "id": "hwYG80DrYvNG",
        "colab_type": "text"
      },
      "source": [
        "9.\tSort 3 Integers\n",
        "\n",
        "Given three integers (given through user input), sort the numbers using |min| and  |max| functions.\n"
      ]
    },
    {
      "cell_type": "code",
      "metadata": {
        "id": "FSk-bt3dY6Fu",
        "colab_type": "code",
        "colab": {}
      },
      "source": [
        "num=[1,11,3]\n",
        "sorted=[]\n",
        "for i in range(3):\n",
        "  x=max(num)\n",
        "  num.remove(x)\n",
        "  sorted.append(x)\n",
        "print(sorted)"
      ],
      "execution_count": null,
      "outputs": []
    },
    {
      "cell_type": "markdown",
      "metadata": {
        "id": "pt-tOr0FXfYN",
        "colab_type": "text"
      },
      "source": [
        "10.\tWrite a program that reads a date from the user and computes its immediate successor. The date is the format YYYY-MM-DD. So, 2020-04-15 will have the successor 2020-04-16."
      ]
    },
    {
      "cell_type": "code",
      "metadata": {
        "id": "DbiIvr6nY51w",
        "colab_type": "code",
        "colab": {}
      },
      "source": [
        "year=int(input(\"enter year \"))\n",
        "month=int(input(\"enter month \"))\n",
        "date=int(input(\"enter date \"))\n",
        "if year%4==0 and year%100!=0 or year%400==0:\n",
        "  if month==2:\n",
        "    month_len=29\n",
        "  else:\n",
        "    month_len=28\n",
        "elif month in (1,3,5,7,8,10,12):\n",
        "  month_len=31\n",
        "else:\n",
        "  month_len=30\n",
        "if date<month_len:\n",
        "  date+=1\n",
        "else:\n",
        "  date=1\n",
        "  if month==12:\n",
        "    month=1\n",
        "    year+=1\n",
        "  else:\n",
        "    month+=1\n",
        "print(year,\"-\",month,\"-\",date)"
      ],
      "execution_count": null,
      "outputs": []
    },
    {
      "cell_type": "markdown",
      "metadata": {
        "id": "jnPQkLVwcuNp",
        "colab_type": "text"
      },
      "source": [
        "11.\tCompute product of a list of numbers [45 ,3,2,89,72,1,10,7]\n",
        "Output: 121111200\n"
      ]
    },
    {
      "cell_type": "code",
      "metadata": {
        "id": "v87cLs7Jcyo6",
        "colab_type": "code",
        "colab": {}
      },
      "source": [
        "lst=[45,3,2,89,72,1,10,7]\n",
        "p=1\n",
        "for i in range(len(lst)):\n",
        "  p=p*lst[i]\n",
        "print(p)"
      ],
      "execution_count": null,
      "outputs": []
    },
    {
      "cell_type": "markdown",
      "metadata": {
        "id": "GSSPgB2fdQmN",
        "colab_type": "text"
      },
      "source": [
        "12.\tCompute given Num_list =  [5, 6,8 ,34,89,1] to get desired output\n",
        "\n",
        "Output: Out_list=[11,14,42,123,90]\n"
      ]
    },
    {
      "cell_type": "code",
      "metadata": {
        "id": "fXv5w3sBdWS1",
        "colab_type": "code",
        "colab": {
          "base_uri": "https://localhost:8080/",
          "height": 34
        },
        "outputId": "15a6a5ee-5ecc-4721-eed1-842c880119bb"
      },
      "source": [
        "l=[5,6,8,34,89,1]\n",
        "Out_list=[]\n",
        "for i in range(len(l)-1):\n",
        "    ol=l[i]+l[i+1]\n",
        "    Out_list.append(ol)\n",
        "print(\"Out_list=\",Out_list)"
      ],
      "execution_count": 10,
      "outputs": [
        {
          "output_type": "stream",
          "text": [
            "Out_list= [11, 14, 42, 123, 90]\n"
          ],
          "name": "stdout"
        }
      ]
    },
    {
      "cell_type": "markdown",
      "metadata": {
        "id": "dxv5VqpehDLp",
        "colab_type": "text"
      },
      "source": [
        "13.Compute given Num_tuple =  (5, 6,8 ,3,9,1) to get desired output\n",
        "\n",
        "Output: Out_list = [5, 30, 240, 720, 6480, 6480]\n"
      ]
    },
    {
      "cell_type": "code",
      "metadata": {
        "id": "f1Op-mzlhHtQ",
        "colab_type": "code",
        "colab": {
          "base_uri": "https://localhost:8080/",
          "height": 34
        },
        "outputId": "b971bdc2-f80a-45bc-a8c1-ad26ff1f6211"
      },
      "source": [
        "a=(5,6,8,3,9,1)\n",
        "out_list=[]\n",
        "out_list.append(a[0])\n",
        "for i in range(len(a)-1):\n",
        "  x=out_list[i]*a[i+1]\n",
        "  out_list.append(x)\n",
        "print(\"out_list= \",out_list)"
      ],
      "execution_count": 6,
      "outputs": [
        {
          "output_type": "stream",
          "text": [
            "out_list=  [5, 30, 240, 720, 6480, 6480]\n"
          ],
          "name": "stdout"
        }
      ]
    },
    {
      "cell_type": "markdown",
      "metadata": {
        "id": "OaQTKdM1hrUb",
        "colab_type": "text"
      },
      "source": [
        "14.\t Write a Python code that takes a number and returns a list of its digits. \n",
        "\n",
        "So for 586392 it should return [5,8,6,3,9,2]"
      ]
    },
    {
      "cell_type": "code",
      "metadata": {
        "id": "snE2eFOchu8n",
        "colab_type": "code",
        "colab": {}
      },
      "source": [
        "a=int(input(\"enter number \"))\n",
        "a=str(a)\n",
        "lst=list(a)\n",
        "for i in range(len(lst)):\n",
        "  lst[i]=int(lst[i])\n",
        "print(lst)"
      ],
      "execution_count": null,
      "outputs": []
    },
    {
      "cell_type": "markdown",
      "metadata": {
        "id": "e7zOVmlUiGVz",
        "colab_type": "text"
      },
      "source": [
        "15.\tWrite a program that finds the longest palindromic substring of a given string"
      ]
    },
    {
      "cell_type": "code",
      "metadata": {
        "id": "KjTGNWbJiHpc",
        "colab_type": "code",
        "colab": {
          "base_uri": "https://localhost:8080/",
          "height": 52
        },
        "outputId": "2b8d5220-0809-489c-ce21-33b3f7229460"
      },
      "source": [
        "def longestpalindrome(n):\n",
        "    d=[[False for i in range(len(n))] for i in range(len(n))]\n",
        "    for i in range(len(n)):\n",
        "        d[i][i]=True\n",
        "    maxlen=1\n",
        "    start=0\n",
        "    for j in range(2,len(n)+1):\n",
        "        for i in range(len(n)-j+1):\n",
        "            end=i+j\n",
        "            if j==2:\n",
        "                if n[i]==n[end-1]:\n",
        "                    d[i][end-1]=True\n",
        "                    maxlen=j\n",
        "                    start=i\n",
        "            else:\n",
        "                if n[i]==n[end-1] and d[i+1][end-2]:\n",
        "                    d[i][end-1]=True\n",
        "                    maxlen=j\n",
        "                    start=i\n",
        "    return n[start:start+maxlen]\n",
        "n=input(\"Enter a string : \")\n",
        "print(longestpalindrome(n))"
      ],
      "execution_count": 9,
      "outputs": [
        {
          "output_type": "stream",
          "text": [
            "Enter a string : abbabbc\n",
            "bbabb\n"
          ],
          "name": "stdout"
        }
      ]
    },
    {
      "cell_type": "markdown",
      "metadata": {
        "id": "R21MExsGiYkS",
        "colab_type": "text"
      },
      "source": [
        "16.\t Substring Check (Bug Funny)\n",
        "\n",
        "Given two binary strings, A (of length 10) and B (of length 5), output 1 if B is a substring of A and 0 otherwise.\n",
        "\n",
        "First two lines of input:\n",
        "\n",
        "\n",
        "1010110010          10110\n",
        "\n",
        "1110111011           10011\n",
        "\n",
        "First two lines of output:\n",
        "\n",
        "1\n",
        "\n",
        "0\n"
      ]
    },
    {
      "cell_type": "code",
      "metadata": {
        "id": "w7-X2VQGimWS",
        "colab_type": "code",
        "colab": {}
      },
      "source": [
        "a=input(\"enter digit \")\n",
        "b=input(\"enter digit \")\n",
        "if b in a:\n",
        "  print(\"1\")\n",
        "else:\n",
        "  print(\"0\")"
      ],
      "execution_count": null,
      "outputs": []
    },
    {
      "cell_type": "markdown",
      "metadata": {
        "id": "a9ceHkwBjPO-",
        "colab_type": "text"
      },
      "source": [
        "17.\t  POUR1 - Pouring water\n",
        "Given two vessels, one of which can accommodate a litres of water and the other - b litres of water, determine the number of steps required to obtain exactly c litres of water in one of the vessels.\n",
        "At the beginning both vessels are empty. The following operations are counted as 'steps':\n",
        "•\temptying a vessel,\n",
        "•\tfilling a vessel,\n",
        "•\tpouring water from one vessel to the other, without spilling, until one of the vessels is either full or empty.\n"
      ]
    },
    {
      "cell_type": "code",
      "metadata": {
        "id": "pfR_V6T4jUeu",
        "colab_type": "code",
        "colab": {
          "base_uri": "https://localhost:8080/",
          "height": 176
        },
        "outputId": "d1cb4ffe-4c6d-492f-d1b5-164a8b70dc38"
      },
      "source": [
        "def gcd(a,b):\n",
        "    if b==0: \n",
        "        return a \n",
        "    return gcd(b,a%b) \n",
        "def countsteps(a,b,c): \n",
        "    v1=b\n",
        "    v2=0\n",
        "    count=1\n",
        "    while ((v1 is not c) and (v2 is not c)): \n",
        "        temp=min(v1,a-v2) \n",
        "        v2=v2+temp \n",
        "        v1=v1-temp \n",
        "        count=count+1\n",
        "        if ((v2==c)or(v1==c)): \n",
        "            break\n",
        "        if v1==0: \n",
        "            v1=b \n",
        "            count=count+1\n",
        "        if v2==a: \n",
        "            v2=0\n",
        "            count=count+1\n",
        "    return count \n",
        "def ispossible(a,b,c): \n",
        "    if a>b: \n",
        "        temp=a \n",
        "        a=b \n",
        "        b=temp \n",
        "    if c>b: \n",
        "        return -1\n",
        "    if (c%(gcd(b,a)) is not 0): \n",
        "        return -1\n",
        "    return(min(countsteps(b,a,c),countsteps(a,b,c)))\n",
        "t=int(input(\"Enter no of testcases : \"))\n",
        "for i in range(t):\n",
        "  a=int(input(\"Enter capacity of vessel a : \"))\n",
        "  b=int(input(\"Enter capacity of vessel b : \"))\n",
        "  c=int(input(\"Enter capacity to be obtained :\"))\n",
        "  print(\"Minimum number of steps required is : \",ispossible(a,b,c))"
      ],
      "execution_count": 8,
      "outputs": [
        {
          "output_type": "stream",
          "text": [
            "Enter no of testcases : 2\n",
            "Enter capacity of vessel a : 5\n",
            "Enter capacity of vessel b : 2\n",
            "Enter capacity to be obtained :3\n",
            "Minimum number of steps required is :  2\n",
            "Enter capacity of vessel a : 7\n",
            "Enter capacity of vessel b : 4\n",
            "Enter capacity to be obtained :5\n",
            "Minimum number of steps required is :  8\n"
          ],
          "name": "stdout"
        }
      ]
    }
  ]
}